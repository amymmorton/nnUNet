{
 "cells": [
  {
   "cell_type": "code",
   "execution_count": 2,
   "id": "d5737d9f",
   "metadata": {},
   "outputs": [
    {
     "name": "stdout",
     "output_type": "stream",
     "text": [
      "C:\\Users\\amorton1\\Documents\\nnUNet\\ymp\\nnUNet_raw\n",
      "C:\\Users\\amorton1\\Documents\\nnUNet\\ymp\\nnUNet_preprocessed\n",
      "C:\\Users\\amorton1\\Documents\\nnUNet\\ymp\\nnUNet_results\n"
     ]
    }
   ],
   "source": [
    "import os\n",
    "\n",
    "ymp_root = r\"C:\\Users\\amorton1\\Documents\\nnUNet\\ymp\"\n",
    "ymp_unet_raw = os.path.join(ymp_root,'nnUNet_raw')\n",
    "\n",
    "if not os.path.exists(ymp_unet_raw):\n",
    "    os.makedirs(ymp_unet_raw)\n",
    "\n",
    "ymp_unet_preprocessed = os.path.join(ymp_root,'nnUNet_preprocessed')\n",
    "if not os.path.exists(ymp_unet_preprocessed):\n",
    "    os.makedirs(ymp_unet_preprocessed)\n",
    "\n",
    "ymp_unet_results = os.path.join(ymp_root,'nnUNet_results')\n",
    "if not os.path.exists(ymp_unet_results):\n",
    "    os.makedirs(ymp_unet_results)\n",
    "\n",
    "print(ymp_unet_raw)\n",
    "print(ymp_unet_preprocessed)\n",
    "print(ymp_unet_results)"
   ]
  },
  {
   "cell_type": "markdown",
   "id": "7d83b3f4",
   "metadata": {},
   "source": [
    "\n",
    "```PowerShell\n",
    "$Env:nnUNet_raw = \"C:\\Users\\amorton1\\Documents\\nnUNet\\ymp\\nnUNet_raw\"\n",
    "$Env:nnUNet_preprocessed = \"C:\\Users\\amorton1\\Documents\\nnUNet\\ymp\\nnUNet_preprocessed\"\n",
    "$Env:nnUNet_results = \"C:\\Users\\amorton1\\Documents\\nnUNet\\ymp\\nnUNet_results\"\n",
    "```\n",
    "\n",
    "Attempted to set these via subprocess- (below) but the \n",
    "C:\\Users\\amorton1\\Documents\\GitHub\\nnUNet\\nnunetv2\\paths.py\n",
    "check wasn't working.. \n",
    "\n",
    "Literally copy each ps cmd above and executed `shrug`"
   ]
  },
  {
   "cell_type": "markdown",
   "id": "f54d40a2",
   "metadata": {},
   "source": [
    "```Python\n",
    "import subprocess\n",
    "\n",
    "subprocess.run(['setx', '$Env:nnUNet_raw', ymp_unet_raw])\n",
    "subprocess.run(['setx', '$Env:nnUNet_preprocessed', ymp_unet_preprocessed\n",
    "])\n",
    "subprocess.run(['setx', '$Env:nnUNet_results', ymp_unet_results])\n",
    "```"
   ]
  },
  {
   "cell_type": "markdown",
   "id": "0f76ab02",
   "metadata": {},
   "source": [
    "### Use the same datasetconversion examples:\n",
    "\n",
    "model the nnunetv2\\dataset_conversion\\Dataset227_TotalSegmentatorMRI.py format\n",
    "\n",
    "intellegently populate the folder data.. mostly the .json.. Think the segmentations can me saved via .nrrd\n",
    "\n"
   ]
  },
  {
   "cell_type": "code",
   "execution_count": 16,
   "id": "9b555b63",
   "metadata": {},
   "outputs": [
    {
     "name": "stdout",
     "output_type": "stream",
     "text": [
      "['P:\\\\Carpal Animal Model\\\\InVitro_CT_Flex\\\\YKR241162_Pilot\\\\NRRD\\\\RadDown', 'P:\\\\Carpal Animal Model\\\\InVitro_CT_Flex\\\\YKR241162_Pilot\\\\NRRD\\\\RadUp', 'P:\\\\Carpal Animal Model\\\\InVitro_CT_Flex\\\\YKR241162_Pilot\\\\NRRD\\\\RadVert']\n"
     ]
    }
   ],
   "source": [
    "import glob\n",
    "\n",
    "ymp_source = r'P:\\Carpal Animal Model\\InVitro_CT_Flex\\YKR241162_Pilot'\n",
    "\n",
    "#the scan list in ymp root Rad...\n",
    "scan_list = glob.glob(os.path.join(ymp_source,'NRRD','*'))\n",
    "print(scan_list)\n",
    "\n",
    "scan_test = scan_list[0]\n",
    "scan_name = os.path.basename(scan_test)"
   ]
  },
  {
   "cell_type": "code",
   "execution_count": 24,
   "id": "d5adcbab",
   "metadata": {},
   "outputs": [
    {
     "name": "stdout",
     "output_type": "stream",
     "text": [
      "['P:\\\\Carpal Animal Model\\\\InVitro_CT_Flex\\\\YKR241162_Pilot\\\\SEG\\\\RadDown_Ext\\\\RadDown_Ext.nrrd']\n"
     ]
    }
   ],
   "source": [
    "seg_list = os.path.join(ymp_source,r'SEG',f\"{scan_name}_Ext\")\n",
    "snrrd = glob.glob(os.path.join(seg_list,'*'))\n",
    "print(snrrd)"
   ]
  }
 ],
 "metadata": {
  "kernelspec": {
   "display_name": ".venv",
   "language": "python",
   "name": "python3"
  },
  "language_info": {
   "codemirror_mode": {
    "name": "ipython",
    "version": 3
   },
   "file_extension": ".py",
   "mimetype": "text/x-python",
   "name": "python",
   "nbconvert_exporter": "python",
   "pygments_lexer": "ipython3",
   "version": "3.13.1"
  }
 },
 "nbformat": 4,
 "nbformat_minor": 5
}

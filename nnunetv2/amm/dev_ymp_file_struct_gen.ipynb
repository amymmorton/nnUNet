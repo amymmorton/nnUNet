{
 "cells": [
  {
   "cell_type": "code",
   "execution_count": 1,
   "id": "d5737d9f",
   "metadata": {},
   "outputs": [
    {
     "name": "stdout",
     "output_type": "stream",
     "text": [
      "C:\\Users\\amorton1\\Documents\\nnUNet\\ymp\\nnUNet_raw\n",
      "C:\\Users\\amorton1\\Documents\\nnUNet\\ymp\\nnUNet_preprocessed\n",
      "C:\\Users\\amorton1\\Documents\\nnUNet\\ymp\\nnUNet_results\n"
     ]
    }
   ],
   "source": [
    "import os\n",
    "\n",
    "ymp_root = r\"C:\\Users\\amorton1\\Documents\\nnUNet\\ymp\"\n",
    "ymp_unet_raw = os.path.join(ymp_root,'nnUNet_raw')\n",
    "\n",
    "if not os.path.exists(ymp_unet_raw):\n",
    "    os.makedirs(ymp_unet_raw)\n",
    "\n",
    "ymp_unet_preprocessed = os.path.join(ymp_root,'nnUNet_preprocessed')\n",
    "if not os.path.exists(ymp_unet_preprocessed):\n",
    "    os.makedirs(ymp_unet_preprocessed)\n",
    "\n",
    "ymp_unet_results = os.path.join(ymp_root,'nnUNet_results')\n",
    "if not os.path.exists(ymp_unet_results):\n",
    "    os.makedirs(ymp_unet_results)\n",
    "\n",
    "print(ymp_unet_raw)\n",
    "print(ymp_unet_preprocessed)\n",
    "print(ymp_unet_results)"
   ]
  },
  {
   "cell_type": "markdown",
   "id": "7d83b3f4",
   "metadata": {},
   "source": [
    "\n",
    "```PowerShell\n",
    "$Env:nnUNet_raw = \"C:\\Users\\amorton1\\Documents\\nnUNet\\ymp\\nnUNet_raw\"\n",
    "$Env:nnUNet_preprocessed = \"C:\\Users\\amorton1\\Documents\\nnUNet\\ymp\\nnUNet_preprocessed\"\n",
    "$Env:nnUNet_results = \"C:\\Users\\amorton1\\Documents\\nnUNet\\ymp\\nnUNet_results\"\n",
    "```\n",
    "\n",
    "Attempted to set these via subprocess- (below) but the \n",
    "C:\\Users\\amorton1\\Documents\\GitHub\\nnUNet\\nnunetv2\\paths.py\n",
    "check wasn't working.. \n",
    "\n",
    "Literally copy each ps cmd above and executed `shrug`"
   ]
  },
  {
   "cell_type": "markdown",
   "id": "f54d40a2",
   "metadata": {},
   "source": [
    "```Python\n",
    "import subprocess\n",
    "\n",
    "subprocess.run(['setx', '$Env:nnUNet_raw', ymp_unet_raw])\n",
    "subprocess.run(['setx', '$Env:nnUNet_preprocessed', ymp_unet_preprocessed\n",
    "])\n",
    "subprocess.run(['setx', '$Env:nnUNet_results', ymp_unet_results])\n",
    "```"
   ]
  },
  {
   "cell_type": "markdown",
   "id": "0f76ab02",
   "metadata": {},
   "source": [
    "### Use the same datasetconversion examples:\n",
    "\n",
    "model the nnunetv2\\dataset_conversion\\Dataset227_TotalSegmentatorMRI.py format\n",
    "\n",
    "intellegently populate the folder data.. mostly the .json.. Think the segmentations can me saved via .nrrd\n",
    "\n"
   ]
  },
  {
   "cell_type": "code",
   "execution_count": 2,
   "id": "9b555b63",
   "metadata": {},
   "outputs": [
    {
     "name": "stdout",
     "output_type": "stream",
     "text": [
      "['P:\\\\Carpal Animal Model\\\\Animal_CT_DATA_Files\\\\MaturedSpecimens\\\\YL81-018', 'P:\\\\Carpal Animal Model\\\\Animal_CT_DATA_Files\\\\MaturedSpecimens\\\\YL81-133', 'P:\\\\Carpal Animal Model\\\\Animal_CT_DATA_Files\\\\MaturedSpecimens\\\\YL82-049', 'P:\\\\Carpal Animal Model\\\\Animal_CT_DATA_Files\\\\MaturedSpecimens\\\\YL83-064', 'P:\\\\Carpal Animal Model\\\\Animal_CT_DATA_Files\\\\MaturedSpecimens\\\\YL83-122', 'P:\\\\Carpal Animal Model\\\\Animal_CT_DATA_Files\\\\MaturedSpecimens\\\\YL87-068', 'P:\\\\Carpal Animal Model\\\\Animal_CT_DATA_Files\\\\MaturedSpecimens\\\\YR81-018', 'P:\\\\Carpal Animal Model\\\\Animal_CT_DATA_Files\\\\MaturedSpecimens\\\\YR81-133', 'P:\\\\Carpal Animal Model\\\\Animal_CT_DATA_Files\\\\MaturedSpecimens\\\\YR82-049', 'P:\\\\Carpal Animal Model\\\\Animal_CT_DATA_Files\\\\MaturedSpecimens\\\\YR83-064', 'P:\\\\Carpal Animal Model\\\\Animal_CT_DATA_Files\\\\MaturedSpecimens\\\\YR83-122', 'P:\\\\Carpal Animal Model\\\\Animal_CT_DATA_Files\\\\MaturedSpecimens\\\\YR87-068']\n"
     ]
    }
   ],
   "source": [
    "import glob\n",
    "\n",
    "ymp_source = r'P:\\Carpal Animal Model\\Animal_CT_DATA_Files\\MaturedSpecimens'\n",
    "\n",
    "#the scan list in ymp root Rad...\n",
    "spec_list = glob.glob(os.path.join(ymp_source,'Y*'))\n",
    "print(spec_list)\n",
    "\n",
    "scan_test = spec_list[0]\n",
    "scan_name = os.path.basename(scan_test)"
   ]
  },
  {
   "cell_type": "code",
   "execution_count": 3,
   "id": "d5adcbab",
   "metadata": {},
   "outputs": [
    {
     "name": "stdout",
     "output_type": "stream",
     "text": [
      "[]\n"
     ]
    }
   ],
   "source": [
    "seg_list = os.path.join(ymp_source,r'SEG',f\"{scan_name}_Ext\")\n",
    "snrrd = glob.glob(os.path.join(seg_list,'*'))\n",
    "print(snrrd)"
   ]
  },
  {
   "cell_type": "code",
   "execution_count": null,
   "id": "fafa6335",
   "metadata": {},
   "outputs": [
    {
     "name": "stdout",
     "output_type": "stream",
     "text": [
      "<class 'nibabel.nifti1.Nifti1Header'> object, endian='<'\n",
      "sizeof_hdr      : 348\n",
      "data_type       : np.bytes_(b'')\n",
      "db_name         : np.bytes_(b'')\n",
      "extents         : 0\n",
      "session_error   : 0\n",
      "regular         : np.bytes_(b'r')\n",
      "dim_info        : 0\n",
      "dim             : [   3 1438  835 2462    1    1    1    1]\n",
      "intent_p1       : 0.0\n",
      "intent_p2       : 0.0\n",
      "intent_p3       : 0.0\n",
      "intent_code     : none\n",
      "datatype        : int16\n",
      "bitpix          : 16\n",
      "slice_start     : 0\n",
      "pixdim          : [1.         0.03833508 0.03833508 0.03833508 0.         0.\n",
      " 0.         0.        ]\n",
      "vox_offset      : 0.0\n",
      "scl_slope       : nan\n",
      "scl_inter       : nan\n",
      "slice_end       : 0\n",
      "slice_code      : unknown\n",
      "xyzt_units      : 10\n",
      "cal_max         : 0.0\n",
      "cal_min         : 0.0\n",
      "slice_duration  : 0.0\n",
      "toffset         : 0.0\n",
      "glmax           : 0\n",
      "glmin           : 0\n",
      "descrip         : np.bytes_(b'')\n",
      "aux_file        : np.bytes_(b'')\n",
      "qform_code      : scanner\n",
      "sform_code      : scanner\n",
      "quatern_b       : 0.0\n",
      "quatern_c       : 0.0\n",
      "quatern_d       : 0.0\n",
      "qoffset_x       : 0.21039705\n",
      "qoffset_y       : 28.66523\n",
      "qoffset_z       : 100.024\n",
      "srow_x          : [ 0.03833508  0.         -0.          0.21039705]\n",
      "srow_y          : [ 0.          0.03833508 -0.         28.66523   ]\n",
      "srow_z          : [0.0000000e+00 0.0000000e+00 3.8335085e-02 1.0002400e+02]\n",
      "intent_name     : np.bytes_(b'')\n",
      "magic           : np.bytes_(b'n+1')\n"
     ]
    }
   ],
   "source": [
    "import os\n",
    "import nibabel as nib\n",
    "import numpy as np\n",
    "\n",
    "\n",
    "ymp_source = r'P:\\Carpal Animal Model\\Animal_CT_DATA_Files\\MaturedSpecimens'\n",
    "ymp_spec = glob.glob(os.path.join(ymp_source,'Y*'))\n",
    "\n",
    "#of the ymp_spec, gather the subset that has the 'SEG' subfolder\n",
    "ymp_spec_seg = [i for i in ymp_spec if os.path.exists(os.path.join(i,'SEG'))]\n",
    "\n",
    "spec_this = os.path.basename(ymp_spec_seg[0])\n",
    "\n",
    "seg_this = os.path.join(ymp_spec_seg[0],'SEG',f\"{spec_this}.nii.gz\")\n",
    "\n",
    "multi_labeled_img = nib.load(seg_this)\n",
    "multi_labeled_data = multi_labeled_img.header\n",
    "print(multi_labeled_data)\n"
   ]
  }
 ],
 "metadata": {
  "kernelspec": {
   "display_name": ".venv",
   "language": "python",
   "name": "python3"
  },
  "language_info": {
   "codemirror_mode": {
    "name": "ipython",
    "version": 3
   },
   "file_extension": ".py",
   "mimetype": "text/x-python",
   "name": "python",
   "nbconvert_exporter": "python",
   "pygments_lexer": "ipython3",
   "version": "3.13.1"
  }
 },
 "nbformat": 4,
 "nbformat_minor": 5
}

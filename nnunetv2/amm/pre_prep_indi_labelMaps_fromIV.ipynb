{
 "cells": [
  {
   "cell_type": "code",
   "execution_count": null,
   "id": "fc074ce6",
   "metadata": {},
   "outputs": [],
   "source": [
    "#import slicer \n",
    "import os\n",
    "import glob\n",
    "from os.path import join\n",
    "\n",
    "from AutoscoperMLib import IO, SubVolumeExtraction, Validation"
   ]
  },
  {
   "cell_type": "code",
   "execution_count": null,
   "id": "6599c440",
   "metadata": {},
   "outputs": [],
   "source": [
    "# pre-existing datset on P drive, to be parsed local into\n",
    "ymp_source = r'P:\\Carpal Animal Model\\Animal_CT_DATA_Files\\MaturedSpecimens'\n",
    "ymp_spec = glob.glob(join(ymp_source,'Y*'))\n",
    "\n",
    "#of the ymp_spec, gather the subset that has the 'SEG' subfolder\n",
    "ymp_spec_seg = [i for i in ymp_spec if os.path.exists(os.path.join(i,'SEG'))]\n",
    "\n",
    "spec_ids = [os.path.basename(s) for s in ymp_spec_seg] #Spec name\n",
    "\n",
    "\n"
   ]
  },
  {
   "cell_type": "code",
   "execution_count": 10,
   "id": "1331fdbc",
   "metadata": {},
   "outputs": [
    {
     "name": "stdout",
     "output_type": "stream",
     "text": [
      "P:\\Carpal Animal Model\\Animal_CT_DATA_Files\\MaturedSpecimens\\YL83-064\\SEG\\YL83-064.nii.gz\n",
      "['P:\\\\Carpal Animal Model\\\\Animal_CT_DATA_Files\\\\MaturedSpecimens\\\\YL83-064\\\\IV.files\\\\CB2.iv', 'P:\\\\Carpal Animal Model\\\\Animal_CT_DATA_Files\\\\MaturedSpecimens\\\\YL83-064\\\\IV.files\\\\CB3.iv', 'P:\\\\Carpal Animal Model\\\\Animal_CT_DATA_Files\\\\MaturedSpecimens\\\\YL83-064\\\\IV.files\\\\CB4.iv', 'P:\\\\Carpal Animal Model\\\\Animal_CT_DATA_Files\\\\MaturedSpecimens\\\\YL83-064\\\\IV.files\\\\ICB.iv', 'P:\\\\Carpal Animal Model\\\\Animal_CT_DATA_Files\\\\MaturedSpecimens\\\\YL83-064\\\\IV.files\\\\MC2.iv', 'P:\\\\Carpal Animal Model\\\\Animal_CT_DATA_Files\\\\MaturedSpecimens\\\\YL83-064\\\\IV.files\\\\MC3.iv', 'P:\\\\Carpal Animal Model\\\\Animal_CT_DATA_Files\\\\MaturedSpecimens\\\\YL83-064\\\\IV.files\\\\MC4.iv', 'P:\\\\Carpal Animal Model\\\\Animal_CT_DATA_Files\\\\MaturedSpecimens\\\\YL83-064\\\\IV.files\\\\MC5.iv', 'P:\\\\Carpal Animal Model\\\\Animal_CT_DATA_Files\\\\MaturedSpecimens\\\\YL83-064\\\\IV.files\\\\RAD.iv', 'P:\\\\Carpal Animal Model\\\\Animal_CT_DATA_Files\\\\MaturedSpecimens\\\\YL83-064\\\\IV.files\\\\RCB.iv', 'P:\\\\Carpal Animal Model\\\\Animal_CT_DATA_Files\\\\MaturedSpecimens\\\\YL83-064\\\\IV.files\\\\UCB.iv', 'P:\\\\Carpal Animal Model\\\\Animal_CT_DATA_Files\\\\MaturedSpecimens\\\\YL83-064\\\\IV.files\\\\ULNA.iv']\n"
     ]
    }
   ],
   "source": [
    "ymp_root_this = ymp_spec_seg[0]\n",
    "spec_this = spec_ids[0]\n",
    "\n",
    "print(join(ymp_root_this,'SEG',f'{spec_this}.nii.gz'))\n",
    "\n",
    "#remove the multilabel nii.gz\n",
    "if os.path.exists(join(ymp_root_this,'SEG',f'{spec_this}.nii.gz')):\n",
    "    os.remove(join(ymp_root_this,'SEG',f'{spec_this}.nii.gz'))\n",
    "\n",
    "\n",
    "#print(ymp_root_this)\n",
    "#print(spec_this)\n",
    "\n",
    "seg_files = glob.glob(join(ymp_root_this,'IV.files','*iv'))\n",
    "#remove any names that include _ics\n",
    "seg_files = [s for s in seg_files if '_ics' not in s]\n",
    "print(seg_files)"
   ]
  },
  {
   "cell_type": "markdown",
   "id": "b5323c08",
   "metadata": {},
   "source": [
    "Currently, nrrd in  root \\ specid \\ NRRD\\ {specid}.nrrd\n",
    "\n",
    "and ivs in root \\ specid \\ IV.files\\ {boneName}.nrrd"
   ]
  },
  {
   "cell_type": "markdown",
   "id": "8abd16db",
   "metadata": {},
   "source": [
    "1) Import the nrrd,\n",
    "2) Import each iv as segmentaion (openinventoeremsh)"
   ]
  },
  {
   "cell_type": "markdown",
   "id": "da9c240f",
   "metadata": {},
   "source": [
    "Probably best, in this loop to alos convert to binary label map and export..."
   ]
  },
  {
   "cell_type": "code",
   "execution_count": null,
   "id": "5eec959e",
   "metadata": {},
   "outputs": [],
   "source": [
    "\n",
    "\n",
    "def exportSegmentationAsBinaryLabelmap(segmentationNode, outputFilePath):\n",
    "    \"\"\"\n",
    "    Exports a segmentation node as a binary labelmap volume.\n",
    "\n",
    "    Args:\n",
    "        segmentationNode (slicer.vtkMRMLSegmentationNode): The segmentation node to export.\n",
    "        outputFilePath (str): The full path and filename for the exported labelmap (e.g., \"C:/temp/labelmap.nrrd\").\n",
    "    \"\"\"\n",
    "    if not segmentationNode:\n",
    "        print(\"Error: No segmentation node provided.\")\n",
    "        return\n",
    "\n",
    "    # Create a new labelmap volume node\n",
    "    labelmapNode = slicer.mrmlScene.AddNewNodeByClass(\"vtkMRMLLabelMapVolumeNode\")\n",
    "\n",
    "    # Export the segmentation to the labelmap volume\n",
    "    slicer.modules.segmentations.logic().ExportAllSegmentsToLabelmapNode(segmentationNode, labelmapNode)\n",
    "\n",
    "    # Save the labelmap volume to a file\n",
    "    slicer.util.saveNode(labelmapNode, outputFilePath)\n",
    "\n",
    "    print(f\"Segmentation '{segmentationNode.GetName()}' exported as binary labelmap to '{outputFilePath}'\")\n",
    "\n",
    "    # Clean up the temporary labelmap node\n",
    "    slicer.mrmlScene.RemoveNode(labelmapNode)\n",
    "\n"
   ]
  },
  {
   "cell_type": "markdown",
   "id": "530bfc2a",
   "metadata": {},
   "source": [
    "prototype with a few isolated to start"
   ]
  },
  {
   "cell_type": "code",
   "execution_count": null,
   "id": "0e060ed4",
   "metadata": {},
   "outputs": [],
   "source": [
    "sf = seg_files[1]\n",
    "outputFile = join(ymp_root_this,'SEG',f'{os.path.basename(sf)}.nii.gz')\n",
    "\n",
    "segmentationNode = slicer.mrmlScene.AddNewNodeByClass(\"vtkMRMLSegmentationNode\")\n",
    "segmentationNode.CreateDefaultDisplayNodes()\n",
    "# Example usage:\n",
    "# Assuming you have a segmentation node named \"MySegmentation\" in your scene\n",
    "IO.loadSegmentation(segmentationNode, sf)\n",
    "exportSegmentationAsBinaryLabelmap(segmentationNode, outputFile)\n",
    "\n",
    "slicer.mrmlScene.RemoveNode(segmentationNode)"
   ]
  },
  {
   "cell_type": "code",
   "execution_count": null,
   "id": "3c7be955",
   "metadata": {},
   "outputs": [],
   "source": [
    "slicer.util.loadVolume(join(ymp_root_this,'NRRD','CT.nii.gz'))\n",
    "\n",
    "\n",
    "for idx, file in enumerate(seg_files):\n",
    "    outputFile = join(ymp_root_this,'SEG',f'{os.path.basename(sf)}.nii.gz')\n",
    "\n",
    "    segmentationNode = slicer.mrmlScene.AddNewNodeByClass(\"vtkMRMLSegmentationNode\")\n",
    "    segmentationNode.CreateDefaultDisplayNodes()\n",
    "    # Example usage:\n",
    "    # Assuming you have a segmentation node named \"MySegmentation\" in your scene\n",
    "    IO.loadSegmentation(segmentationNode, sf)\n",
    "    exportSegmentationAsBinaryLabelmap(segmentationNode, outputFile)\n",
    "    slicer.mrmlScene.RemoveNode(segmentationNode)"
   ]
  }
 ],
 "metadata": {
  "kernelspec": {
   "display_name": ".venv",
   "language": "python",
   "name": "python3"
  },
  "language_info": {
   "codemirror_mode": {
    "name": "ipython",
    "version": 3
   },
   "file_extension": ".py",
   "mimetype": "text/x-python",
   "name": "python",
   "nbconvert_exporter": "python",
   "pygments_lexer": "ipython3",
   "version": "3.13.1"
  }
 },
 "nbformat": 4,
 "nbformat_minor": 5
}
